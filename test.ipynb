{
 "cells": [
  {
   "cell_type": "code",
   "execution_count": 9,
   "metadata": {},
   "outputs": [],
   "source": [
    "import numpy as np\n",
    "import time\n",
    "\n",
    "np.random.seed(0)"
   ]
  },
  {
   "cell_type": "code",
   "execution_count": 10,
   "metadata": {},
   "outputs": [],
   "source": [
    "def test_time(sample_size, batch_size, do_prints=False):\n",
    "    ret = []\n",
    "    k_x = np.random.rand(sample_size, 21)\n",
    "    new_xs = np.random.rand(batch_size, 21)\n",
    "\n",
    "    start = time.time()\n",
    "    new_rows = np.zeros((batch_size, sample_size))   # rectangular matrix\n",
    "    for i in range(len(new_xs)):\n",
    "        new_x = new_xs[i]\n",
    "\n",
    "        new_row = np.sum(np.square(k_x - new_x) , axis=1) \n",
    "        new_row = np.exp(new_row)\n",
    "        new_row = new_row.reshape((1, -1))\n",
    "\n",
    "        new_rows[i] = new_row\n",
    "    end = time.time()\n",
    "    ret.append(end - start)\n",
    "    if do_prints:\n",
    "        print(\"Time for calculating rectangular matrix: \\t\", end - start)\n",
    "\n",
    "    start = time.time()\n",
    "    new_rows2 = np.array([np.sum(np.square(k_x - new_x), axis=1) for new_x in new_xs])\n",
    "    end = time.time()\n",
    "    ret.append(end - start)\n",
    "    if do_prints:\n",
    "        print(\"Time for calculating rectangular matrix2: \\t\", end - start)\n",
    "\n",
    "    start = time.time()\n",
    "    '''\n",
    "    USING MESHGRID AND DSTACK --> TERRIBLY SLOWER, too much space\n",
    "    it makes sense though, the array version is fast since the computation has to be done row by row\n",
    "    '''\n",
    "    indices = np.dstack(np.meshgrid(np.arange(k_x.shape[0]), np.arange(new_xs.shape[0]))).reshape(-1, 2)\n",
    "    new_rows3 = np.sum(np.square(k_x[indices[:,0]] - new_xs[indices[:,1]]), axis=1)\n",
    "    end = time.time()\n",
    "    ret.append(end - start)\n",
    "    if do_prints:\n",
    "        print(\"Time for calculating rectangular matrix3: \\t\", end - start)\n",
    "\n",
    "    return ret"
   ]
  },
  {
   "cell_type": "code",
   "execution_count": 11,
   "metadata": {},
   "outputs": [
    {
     "name": "stdout",
     "output_type": "stream",
     "text": [
      "\t200x50:\n",
      "Time for calculating rectangular matrix: \t 0.0019974708557128906\n",
      "Time for calculating rectangular matrix2: \t 0.0019919872283935547\n",
      "Time for calculating rectangular matrix3: \t 0.0\n",
      "\n",
      "\n",
      "\t1000x100:\n",
      "Time for calculating rectangular matrix: \t 0.019082069396972656\n",
      "Time for calculating rectangular matrix2: \t 0.009030342102050781\n",
      "Time for calculating rectangular matrix3: \t 0.03600573539733887\n",
      "\n",
      "\n",
      "\t1000x500:\n",
      "Time for calculating rectangular matrix: \t 0.05519270896911621\n",
      "Time for calculating rectangular matrix2: \t 0.05367636680603027\n"
     ]
    },
    {
     "name": "stdout",
     "output_type": "stream",
     "text": [
      "Time for calculating rectangular matrix3: \t 0.2028334140777588\n",
      "\n",
      "\n",
      "\t1000x1000:\n",
      "Time for calculating rectangular matrix: \t 0.09543538093566895\n",
      "Time for calculating rectangular matrix2: \t 0.08151102066040039\n",
      "Time for calculating rectangular matrix3: \t 0.33538103103637695\n",
      "\n",
      "\n",
      "\t2000x2000:\n",
      "Time for calculating rectangular matrix: \t 0.335939884185791\n",
      "Time for calculating rectangular matrix2: \t 0.3729569911956787\n"
     ]
    },
    {
     "ename": "KeyboardInterrupt",
     "evalue": "",
     "output_type": "error",
     "traceback": [
      "\u001b[1;31m---------------------------------------------------------------------------\u001b[0m",
      "\u001b[1;31mKeyboardInterrupt\u001b[0m                         Traceback (most recent call last)",
      "Cell \u001b[1;32mIn[11], line 18\u001b[0m\n\u001b[0;32m     15\u001b[0m \u001b[39mprint\u001b[39m(\u001b[39m\"\u001b[39m\u001b[39m\\n\u001b[39;00m\u001b[39m\"\u001b[39m)\n\u001b[0;32m     17\u001b[0m \u001b[39mprint\u001b[39m(\u001b[39m\"\u001b[39m\u001b[39m\\t\u001b[39;00m\u001b[39m2000x2000:\u001b[39m\u001b[39m\"\u001b[39m)\n\u001b[1;32m---> 18\u001b[0m test_time(\u001b[39m2000\u001b[39;49m, \u001b[39m2000\u001b[39;49m, \u001b[39mTrue\u001b[39;49;00m)\n\u001b[0;32m     19\u001b[0m \u001b[39mprint\u001b[39m(\u001b[39m\"\u001b[39m\u001b[39m\\n\u001b[39;00m\u001b[39m\"\u001b[39m)\n\u001b[0;32m     21\u001b[0m \u001b[39mprint\u001b[39m(\u001b[39m\"\u001b[39m\u001b[39m\\t\u001b[39;00m\u001b[39m10000x100:\u001b[39m\u001b[39m\"\u001b[39m)\n",
      "Cell \u001b[1;32mIn[10], line 34\u001b[0m, in \u001b[0;36mtest_time\u001b[1;34m(sample_size, batch_size, do_prints)\u001b[0m\n\u001b[0;32m     29\u001b[0m \u001b[39m\u001b[39m\u001b[39m'''\u001b[39;00m\n\u001b[0;32m     30\u001b[0m \u001b[39mUSING MESHGRID AND DSTACK --> TERRIBLY SLOWER, too much space\u001b[39;00m\n\u001b[0;32m     31\u001b[0m \u001b[39mit makes sense though, the array version is fast since the computation has to be done row by row\u001b[39;00m\n\u001b[0;32m     32\u001b[0m \u001b[39m'''\u001b[39;00m\n\u001b[0;32m     33\u001b[0m indices \u001b[39m=\u001b[39m np\u001b[39m.\u001b[39mdstack(np\u001b[39m.\u001b[39mmeshgrid(np\u001b[39m.\u001b[39marange(k_x\u001b[39m.\u001b[39mshape[\u001b[39m0\u001b[39m]), np\u001b[39m.\u001b[39marange(new_xs\u001b[39m.\u001b[39mshape[\u001b[39m0\u001b[39m])))\u001b[39m.\u001b[39mreshape(\u001b[39m-\u001b[39m\u001b[39m1\u001b[39m, \u001b[39m2\u001b[39m)\n\u001b[1;32m---> 34\u001b[0m new_rows3 \u001b[39m=\u001b[39m np\u001b[39m.\u001b[39msum(np\u001b[39m.\u001b[39;49msquare(k_x[indices[:,\u001b[39m0\u001b[39;49m]] \u001b[39m-\u001b[39;49m new_xs[indices[:,\u001b[39m1\u001b[39;49m]]), axis\u001b[39m=\u001b[39m\u001b[39m1\u001b[39m)\n\u001b[0;32m     35\u001b[0m end \u001b[39m=\u001b[39m time\u001b[39m.\u001b[39mtime()\n\u001b[0;32m     36\u001b[0m ret\u001b[39m.\u001b[39mappend(end \u001b[39m-\u001b[39m start)\n",
      "\u001b[1;31mKeyboardInterrupt\u001b[0m: "
     ]
    }
   ],
   "source": [
    "print(\"\\t200x50:\")\n",
    "test_time(200, 50, True)\n",
    "print(\"\\n\")\n",
    "\n",
    "print(\"\\t1000x100:\")\n",
    "test_time(1000, 100, True)\n",
    "print(\"\\n\")\n",
    "\n",
    "print(\"\\t1000x500:\")\n",
    "test_time(1000, 500, True)\n",
    "print(\"\\n\")\n",
    "\n",
    "print(\"\\t1000x1000:\")\n",
    "test_time(1000, 1000, True)\n",
    "print(\"\\n\")\n",
    "\n",
    "print(\"\\t2000x2000:\")\n",
    "test_time(2000, 2000, True)\n",
    "print(\"\\n\")\n",
    "\n",
    "print(\"\\t10000x100:\")\n",
    "test_time(10000, 100, True)\n",
    "print(\"\\n\")\n",
    "\n",
    "print(\"\\t100000x100:\")\n",
    "test_time(100000, 100, True)\n",
    "print(\"\\n\")\n",
    "\n",
    "# print(\"\\t5000x5000:\")\n",
    "# test_time(5000, 5000, True)\n",
    "# print(\"\\n\")\n",
    "\n",
    "# print(\"\\t10000x10000:\")\n",
    "# test_time(10000, 10000, True)\n",
    "# print(\"\\n\")"
   ]
  },
  {
   "attachments": {},
   "cell_type": "markdown",
   "metadata": {},
   "source": [
    "### meshgrid"
   ]
  },
  {
   "cell_type": "code",
   "execution_count": null,
   "metadata": {},
   "outputs": [
    {
     "name": "stdout",
     "output_type": "stream",
     "text": [
      "[[0 1 2]\n",
      " [3 4 5]\n",
      " [6 7 8]]\n",
      "[[ 9 10]\n",
      " [11 12]]\n",
      "[[9. 4. 1.]\n",
      " [9. 4. 1.]]\n",
      "[array([[0, 1, 2],\n",
      "       [0, 1, 2]]), array([[3., 3., 3.],\n",
      "       [3., 3., 3.]])]\n",
      "[[9. 4. 1.]\n",
      " [9. 4. 1.]]\n"
     ]
    }
   ],
   "source": [
    "import numpy as np\n",
    "np.random.seed(0)\n",
    "\n",
    "sample_size = 3\n",
    "batch_size = 2\n",
    "\n",
    "kx = np.arange(sample_size)\n",
    "kmat = np.arange(sample_size**2).reshape((sample_size, sample_size))\n",
    "new_xs = np.ones(batch_size) * 3\n",
    "new_kmat = np.arange(batch_size**2).reshape((batch_size, batch_size))+9\n",
    "\n",
    "print(kmat)\n",
    "print(new_kmat)\n",
    "\n",
    "# compute rectangular matrix the old way\n",
    "new_rows = np.array([np.square(kx - new_x) for new_x in new_xs])\n",
    "print(new_rows)\n",
    "\n",
    "# compute rectangular matrix in one go with np.meshgrid\n",
    "new_rows2 = np.dstack(np.meshgrid(kx, new_xs)).reshape(-1, 2)\n",
    "new_rows2 = np.square(new_rows2[:, 0] - new_rows2[:, 1]).reshape(batch_size, sample_size)\n",
    "print(new_rows2)\n",
    "\n"
   ]
  },
  {
   "attachments": {},
   "cell_type": "markdown",
   "metadata": {},
   "source": [
    "### np from two arrays keep maximum M elements"
   ]
  },
  {
   "cell_type": "code",
   "execution_count": null,
   "metadata": {},
   "outputs": [
    {
     "name": "stdout",
     "output_type": "stream",
     "text": [
      "delta:  [1 2 2 4 5 6 7 8 8 8] \tnew_xs_deltas:  [4 4 5]\n",
      "discarded:  [8 8 8]\n",
      "kept:  [1 2 2 4 5 6 7]\n",
      "delta:  [1 2 2 4 5 6 7 8 8 8] \tnew_xs_deltas:  [4 4 5]\n",
      "added:  [] \tadded2:  [2 4 4 5]\n"
     ]
    }
   ],
   "source": [
    "import numpy as np\n",
    "np.random.seed(2)\n",
    "\n",
    "delta = np.random.randint(0, 10, size=10)\n",
    "new_xs_deltas = np.random.randint(0, 8, size=3)\n",
    "\n",
    "print(\"delta: \", np.sort(delta), \"\\tnew_xs_deltas: \", np.sort(new_xs_deltas))\n",
    "\n",
    "merged = np.hstack((delta, new_xs_deltas))\n",
    "sorted = np.sort(merged)\n",
    "newdelta = sorted[:delta.shape[0]]\n",
    "\n",
    "# discarded from old delta\n",
    "discarded = np.setdiff1d(delta, newdelta, assume_unique=True)\n",
    "print(\"discarded: \", np.sort(discarded))\n",
    "\n",
    "# kept from old delta\n",
    "kept = np.setdiff1d(delta, discarded, assume_unique=True)\n",
    "print(\"kept: \", np.sort(kept))\n",
    "\n",
    "# added from new_xs_deltas\n",
    "added = np.setdiff1d(newdelta, kept, assume_unique=True)\n",
    "added2 = np.delete(newdelta, np.searchsorted(newdelta, kept))\n",
    "print(\"delta: \", np.sort(delta), \"\\tnew_xs_deltas: \", np.sort(new_xs_deltas))\n",
    "print(\"added: \", np.sort(added), \"\\tadded2: \", np.sort(added2))"
   ]
  },
  {
   "cell_type": "code",
   "execution_count": null,
   "metadata": {},
   "outputs": [
    {
     "name": "stdout",
     "output_type": "stream",
     "text": [
      "delta:  [3 6 6 0 9] \tnew_xs_deltas:  [0 2 8]\n",
      "worst_deltas:  [1 2 4]  ==>  [6 6 9]\n",
      "kept:  [0 2 6]\n",
      "new_xs_toadd:  [0 2]\n",
      "new_xs_toadd_indices:  [ True  True False]\n",
      "new_xs_toadd:  [0 2]\n"
     ]
    },
    {
     "data": {
      "text/plain": [
       "array([0, 1], dtype=int64)"
      ]
     },
     "execution_count": 97,
     "metadata": {},
     "output_type": "execute_result"
    }
   ],
   "source": [
    "import numpy as np\n",
    "np.random.seed(5)\n",
    "\n",
    "delta = np.random.randint(0, 10, size=5)\n",
    "new_xs_deltas = np.random.randint(0, 8, size=3)\n",
    "\n",
    "new_xs_deltas[-1] = 8\n",
    "new_xs_deltas[-2] = 2\n",
    "\n",
    "print(\"delta: \", delta, \"\\tnew_xs_deltas: \", new_xs_deltas)\n",
    "\n",
    "#take the worst (max) delta items, length of new_xs_deltas\n",
    "worst_deltas = np.where(np.isin(delta, np.sort(delta)[::-1][:new_xs_deltas.shape[0]]))[0]\n",
    "print(\"worst_deltas: \", np.sort(worst_deltas), \" ==> \", delta[worst_deltas])\n",
    "\n",
    "# compare worst_deltas with new_xs_deltas, keep the best ones (min)\n",
    "kept = np.sort( np.concatenate((delta[worst_deltas], new_xs_deltas)) )[:new_xs_deltas.shape[0]]\n",
    "# kept = np.minimum(delta[worst_deltas], new_xs_deltas)\n",
    "print(\"kept: \", kept)\n",
    "\n",
    "# find the worst deltas that have not been kept, without using set functions\n",
    "new_xs_toadd = np.delete(kept, np.where(np.isin(kept, delta[worst_deltas])))\n",
    "# old_delta_toremove = np.delete(, np.where(np.isin(delta[worst_deltas], kept)))\n",
    "print(\"new_xs_toadd: \", new_xs_toadd)\n",
    "\n",
    "# calculate the index of the new x delta to add\n",
    "new_xs_toadd_indices = np.isin(new_xs_deltas, new_xs_toadd)\n",
    "print(\"new_xs_toadd_indices: \", new_xs_toadd_indices)\n",
    "new_xs_toadd = new_xs_deltas[new_xs_toadd_indices]\n",
    "print(\"new_xs_toadd: \", new_xs_toadd)\n",
    "np.where(np.isin(new_xs_deltas, new_xs_toadd))[0]"
   ]
  },
  {
   "cell_type": "code",
   "execution_count": null,
   "metadata": {},
   "outputs": [
    {
     "name": "stdout",
     "output_type": "stream",
     "text": [
      "delta:  [3 6 6 0 9] \tnew_xs_deltas:  [0 7 8]\n",
      "newdelta:  [0 0 3 6 6]\n",
      "old_tokeep:  [3 6 6 9] \told_tokeep_idx:  [0 1 2 4] \told_todelete:  [0]\n",
      "new_xs_toadd:  [0] \tnew_xs_toadd_idx:  []\n"
     ]
    },
    {
     "data": {
      "text/plain": [
       "(array([0, 1, 2, 4], dtype=int64),)"
      ]
     },
     "execution_count": 138,
     "metadata": {},
     "output_type": "execute_result"
    }
   ],
   "source": [
    "import numpy as np\n",
    "np.random.seed(5)\n",
    "\n",
    "delta = np.random.randint(0, 10, size=5)\n",
    "new_xs_deltas = np.random.randint(0, 8, size=3)\n",
    "\n",
    "new_xs_deltas[-1] = 8\n",
    "new_xs_deltas[-2] = 7\n",
    "\n",
    "print(\"delta: \", delta, \"\\tnew_xs_deltas: \", new_xs_deltas)\n",
    "\n",
    "newdelta = np.sort(np.concatenate((delta, new_xs_deltas)))[:delta.shape[0]]\n",
    "print(\"newdelta: \", newdelta)\n",
    "\n",
    "old_tokeep_idx = np.where(delta[np.isin(newdelta, delta)])[0]\n",
    "old_tokeep = delta[old_tokeep_idx]\n",
    "old_todelete = np.delete(delta, old_tokeep_idx)\n",
    "print(\"old_tokeep: \", old_tokeep, \"\\told_tokeep_idx: \", old_tokeep_idx , \"\\told_todelete: \", old_todelete)\n",
    "\n",
    "new_xs_toadd = np.sort(new_xs_deltas)[:old_todelete.shape[0]]\n",
    "new_xs_toadd_idx = np.where(new_xs_deltas[np.isin(new_xs_deltas, new_xs_toadd)])[0]\n",
    "print(\"new_xs_toadd: \", new_xs_toadd, \"\\tnew_xs_toadd_idx: \", new_xs_toadd_idx)\n",
    "\n",
    "np.where(delta[np.isin(newdelta,delta)])\n"
   ]
  },
  {
   "cell_type": "code",
   "execution_count": null,
   "metadata": {},
   "outputs": [],
   "source": [
    "\n",
    "'''\n",
    "# X = set difference bw tokeep and self.delta, to remain only with the new to add\n",
    "toadd = np.setdiff1d(newdelta, delta, assume_unique=True)\n",
    "toadd2 = np.delete(newdelta, newdelta[np.in1d(delta, newdelta)])\n",
    "\n",
    "# Y = set diff bw self.delta and X to find those to discard\n",
    "old_tokeep = np.setdiff1d(newdelta, toadd2, assume_unique=True)\n",
    "todiscard = np.setdiff1d(delta, old_tokeep, assume_unique=True)\n",
    "\n",
    "print(\"delta:\",np.sort(delta),\"\\tnew xs deltas:\", np.sort(new_xs_deltas))\n",
    "print()\n",
    "\n",
    "print(\"new delta:\", newdelta)\n",
    "print(\"toadd:\", toadd, \"\\ttoadd2:\", toadd2)\n",
    "print(\"old but kept:\", old_tokeep, \"\\ttodiscard:\", np.sort(todiscard))\n",
    "'''"
   ]
  },
  {
   "cell_type": "code",
   "execution_count": null,
   "metadata": {},
   "outputs": [
    {
     "name": "stdout",
     "output_type": "stream",
     "text": [
      "delta: [0 8 0 0 4 0 7] \tnew xs deltas: [0 3 2 8 2]\n",
      "merged: [0 8 0 0 4 0 7 0 3 2 8 2]\n",
      "sorted: [0 0 0 0 0 2 2 3 4 7 8 8]\n",
      "new delta: [0 0 0 0 0 2 2] \tdiscarded: [3 4 7 8 8]\n",
      "toremove from kmat: [8 4 7] \ttoremove_idx: [1 4 6]\n",
      "\n",
      "=========================\n",
      "\n",
      "toadd_xs: [0 2 2]\n"
     ]
    }
   ],
   "source": [
    "import numpy as np\n",
    "np.random.seed(5)\n",
    "\n",
    "# delta = np.random.randint(0, 10, size=5)\n",
    "# new_xs_deltas = np.random.randint(0, 8, size=3)\n",
    "\n",
    "# new_xs_deltas[-1] = 8\n",
    "# new_xs_deltas[-2] = 7\n",
    "\n",
    "delta = np.array([0,8,0,0,4,0,7])\n",
    "new_xs_deltas = np.array([0,3,2,8,2])\n",
    "\n",
    "merged = np.hstack((delta, new_xs_deltas))\n",
    "sorted = np.sort(merged)\n",
    "newdelta = sorted[:delta.shape[0]]\n",
    "discarded = sorted[delta.shape[0]:]\n",
    "\n",
    "# for x in toremove:\n",
    "#     if x in newdelta:\n",
    "#         newdelta = np.delete(newdelta, np.where(newdelta==x)[0][0])\n",
    "\n",
    "print(\"delta:\",delta,\"\\tnew xs deltas:\", new_xs_deltas)\n",
    "print(\"merged:\", merged)\n",
    "print(\"sorted:\", sorted)\n",
    "print(\"new delta:\", newdelta, \"\\tdiscarded:\", discarded)\n",
    "\n",
    "\n",
    "\n",
    "# a = np.not_equal(np.sort(delta), newdelta)\n",
    "# toremove = np.sort(delta)[a]\n",
    "toremove_idx = np.where(np.isin(delta, np.sort(delta)[np.not_equal(np.sort(delta), newdelta)]))[0]\n",
    "print(\"toremove from kmat:\", delta[toremove_idx], \"\\ttoremove_idx:\", toremove_idx)\n",
    "\n",
    "print(\"\\n=========================\\n\")\n",
    "\n",
    "\n",
    "new_xs_deltas = np.sort(new_xs_deltas) [:toremove_idx.shape[0]]\n",
    "print(\"toadd_xs:\", new_xs_deltas)\n"
   ]
  },
  {
   "cell_type": "code",
   "execution_count": null,
   "metadata": {},
   "outputs": [
    {
     "name": "stdout",
     "output_type": "stream",
     "text": [
      "idx: [1 6]\n"
     ]
    }
   ],
   "source": [
    "import numpy as np\n",
    "\n",
    "delta = np.array([0,8,0,0,4,0,7])\n",
    "amount = 2\n",
    "\n",
    "idx = np.argsort(delta)[::-1][:amount]\n",
    "print(\"idx:\", idx)"
   ]
  },
  {
   "cell_type": "code",
   "execution_count": null,
   "metadata": {},
   "outputs": [
    {
     "name": "stdout",
     "output_type": "stream",
     "text": [
      "deque([10, 11, 12, 13, 14, 15, 16, 17, 18, 19])\n",
      "deque([10, 11, 12, 13, 14, 15, 16, 17, 19])\n"
     ]
    }
   ],
   "source": [
    "from collections import deque\n",
    "\n",
    "a = deque(range(10,20))\n",
    "print(a)\n",
    "del a[8]\n",
    "print(a)"
   ]
  },
  {
   "attachments": {},
   "cell_type": "markdown",
   "metadata": {},
   "source": [
    "### testing matrix_inverse_remove_i.py\n",
    "(CORRECTLY WORKING!!!)"
   ]
  },
  {
   "cell_type": "code",
   "execution_count": null,
   "metadata": {},
   "outputs": [
    {
     "name": "stdout",
     "output_type": "stream",
     "text": [
      "A:\n",
      " [[3 6 6 0 9]\n",
      " [8 4 7 0 0]\n",
      " [7 1 5 7 0]\n",
      " [1 4 6 2 9]\n",
      " [9 9 9 1 2]] \n",
      "Ainv:\n",
      " [[ 0.41666667  0.07894737  0.13157895 -0.38157895 -0.15789474]\n",
      " [ 0.00925926 -0.26608187 -0.01754386 -0.06578947  0.25438596]\n",
      " [-0.48148148  0.20467836 -0.14035088  0.47368421  0.03508772]\n",
      " [-0.07407407 -0.1871345   0.11403509  0.05263158  0.09649123]\n",
      " [ 0.28703704  0.01461988  0.06140351 -0.14473684 -0.14035088]]\n",
      "a [[ 0.41666667  0.07894737  0.13157895 -0.38157895]\n",
      " [ 0.00925926 -0.26608187 -0.01754386 -0.06578947]\n",
      " [-0.48148148  0.20467836 -0.14035088  0.47368421]\n",
      " [-0.07407407 -0.1871345   0.11403509  0.05263158]]\n",
      "b [-0.15789474  0.25438596  0.03508772  0.09649123]\n",
      "c [ 0.28703704  0.01461988  0.06140351 -0.14473684]\n",
      "d -0.14035087719298245\n",
      "Ainv:\n",
      " [[ 0.09375     0.0625      0.0625     -0.21875   ]\n",
      " [ 0.52951389 -0.23958333  0.09375    -0.328125  ]\n",
      " [-0.40972222  0.20833333 -0.125       0.4375    ]\n",
      " [ 0.12326389 -0.17708333  0.15625    -0.046875  ]]\n",
      "Ainv2:\n",
      " [[ 0.09375     0.0625      0.0625     -0.21875   ]\n",
      " [ 0.52951389 -0.23958333  0.09375    -0.328125  ]\n",
      " [-0.40972222  0.20833333 -0.125       0.4375    ]\n",
      " [ 0.12326389 -0.17708333  0.15625    -0.046875  ]]\n",
      "A\\4:\n",
      " [[3 6 6 0]\n",
      " [8 4 7 0]\n",
      " [7 1 5 7]\n",
      " [1 4 6 2]]\n",
      "Ainv*A\\4:\n",
      " [[ 1.00000000e+00  5.55111512e-16  4.99600361e-16 -5.55111512e-17]\n",
      " [-1.66533454e-16  1.00000000e+00 -1.11022302e-16  0.00000000e+00]\n",
      " [-1.11022302e-16  0.00000000e+00  1.00000000e+00  0.00000000e+00]\n",
      " [-4.16333634e-17 -2.77555756e-16 -3.60822483e-16  1.00000000e+00]]\n"
     ]
    }
   ],
   "source": [
    "import numpy as np\n",
    "np.random.seed(5)\n",
    "from matrix_inverse_remove_i import matrix_inverse_remove_i\n",
    "\n",
    "# matrix 5by5\n",
    "A = np.random.randint(0, 10, size=(5,5))\n",
    "Ainv = np.linalg.inv(A)\n",
    "print(\"A:\\n\", A, \"\\nAinv:\\n\", Ainv)\n",
    "\n",
    "# remove row and column 4\n",
    "A_remove4 = np.delete(np.delete(A, 4, axis=0), 4, axis=1)\n",
    "Ainv_remove4 = matrix_inverse_remove_i(Ainv, 4)\n",
    "Ainv2 = np.linalg.inv(A_remove4)\n",
    "print(\"Ainv:\\n\", Ainv_remove4)\n",
    "print(\"Ainv2:\\n\", Ainv2)\n",
    "print(\"A\\\\4:\\n\", A_remove4)\n",
    "\n",
    "# check that Ainv is the inverse of A\n",
    "print(\"Ainv*A\\\\4:\\n\", np.matmul(Ainv_remove4, A_remove4))"
   ]
  },
  {
   "attachments": {},
   "cell_type": "markdown",
   "metadata": {},
   "source": [
    "### test some kernel matrices"
   ]
  },
  {
   "cell_type": "code",
   "execution_count": null,
   "metadata": {},
   "outputs": [],
   "source": [
    "from IGPR import *\n",
    "import numpy as np\n",
    "np.set_printoptions(precision=2)\n",
    "np.random.seed(5)\n",
    "\n",
    "def load_csv(file_name):\n",
    "    with open(file_name, \"r\") as f:\n",
    "        reader = csv.reader(f)\n",
    "        columns = [row for row in reader]\n",
    "\n",
    "    columns = np.array(columns)\n",
    "    \n",
    "    m_x, n_x = columns.shape\n",
    "    data_set = np.zeros((m_x, n_x))\n",
    "    for i in range(m_x):\n",
    "        for j in range(n_x):\n",
    "            data_set[i][j] = float(columns[i][j])\n",
    "    return data_set\n",
    "\n",
    "training_set = load_csv('training_set.csv')\n",
    "training_target = load_csv('training_target.csv')\n",
    "test_set = load_csv('test_set.csv')\n",
    "test_target = load_csv('test_target.csv')\n"
   ]
  },
  {
   "cell_type": "code",
   "execution_count": null,
   "metadata": {},
   "outputs": [
    {
     "name": "stdout",
     "output_type": "stream",
     "text": [
      "(199, 21) (199, 7)\n",
      "===============================\n"
     ]
    },
    {
     "ename": "AttributeError",
     "evalue": "'IGPR' object has no attribute 'informativity'",
     "output_type": "error",
     "traceback": [
      "\u001b[1;31m---------------------------------------------------------------------------\u001b[0m",
      "\u001b[1;31mAttributeError\u001b[0m                            Traceback (most recent call last)",
      "Cell \u001b[1;32mIn[15], line 23\u001b[0m\n\u001b[0;32m     19\u001b[0m     e \u001b[39m=\u001b[39m j\u001b[39m+\u001b[39mbatch_size \u001b[39mif\u001b[39;00m j\u001b[39m+\u001b[39mbatch_size \u001b[39m<\u001b[39m \u001b[39mlen\u001b[39m(x) \u001b[39melse\u001b[39;00m \u001b[39mlen\u001b[39m(x)\n\u001b[0;32m     20\u001b[0m     \u001b[39m# TODO print deltas\u001b[39;00m\n\u001b[0;32m     21\u001b[0m     \u001b[39m# print(np.array(igpr.delta))\u001b[39;00m\n\u001b[0;32m     22\u001b[0m     \u001b[39m# print(\"e \", e)\u001b[39;00m\n\u001b[1;32m---> 23\u001b[0m     igpr\u001b[39m.\u001b[39;49mlearn_batch(x[j:e,:], y[j:e,:])\n\u001b[0;32m     24\u001b[0m \u001b[39m# print(\"===============================\")\u001b[39;00m\n\u001b[0;32m     26\u001b[0m \u001b[39mfor\u001b[39;00m i \u001b[39min\u001b[39;00m \u001b[39mrange\u001b[39m(\u001b[39mlen\u001b[39m(x)):\n\u001b[0;32m     27\u001b[0m     \u001b[39m# TODO print deltas\u001b[39;00m\n\u001b[0;32m     28\u001b[0m     \u001b[39m# print(np.array(igpr2.delta))\u001b[39;00m\n",
      "File \u001b[1;32mc:\\Users\\bona1\\VSCode_projects\\batch-igpr\\Batch-Incremental-Gaussian-Process-Regression-BIGPR\\IGPR.py:105\u001b[0m, in \u001b[0;36mIGPR.learn_batch\u001b[1;34m(self, new_xs, new_ys)\u001b[0m\n\u001b[0;32m    103\u001b[0m     \u001b[39m#now we add all and remove to come back to the max size\u001b[39;00m\n\u001b[0;32m    104\u001b[0m     \u001b[39mself\u001b[39m\u001b[39m.\u001b[39mbatch_aug_update_SE_kernel(new_xs, new_ys)\n\u001b[1;32m--> 105\u001b[0m     \u001b[39mself\u001b[39;49m\u001b[39m.\u001b[39;49mremove_kernel_samples(amt_toremove)\n\u001b[0;32m    106\u001b[0m     \u001b[39mself\u001b[39m\u001b[39m.\u001b[39msamples_subsituted \u001b[39m+\u001b[39m\u001b[39m=\u001b[39m amt_toremove\n\u001b[0;32m    108\u001b[0m \u001b[39melse\u001b[39;00m:\n",
      "File \u001b[1;32mc:\\Users\\bona1\\VSCode_projects\\batch-igpr\\Batch-Incremental-Gaussian-Process-Regression-BIGPR\\IGPR.py:406\u001b[0m, in \u001b[0;36mIGPR.remove_kernel_samples\u001b[1;34m(self, amount)\u001b[0m\n\u001b[0;32m    393\u001b[0m \u001b[39m\u001b[39m\u001b[39m'''\u001b[39;00m\n\u001b[0;32m    394\u001b[0m \u001b[39morder delta, choose worse `amount`, find their indeces I \u001b[39;00m\n\u001b[0;32m    395\u001b[0m \u001b[39mfor i in I:\u001b[39;00m\n\u001b[1;32m   (...)\u001b[0m\n\u001b[0;32m    403\u001b[0m \u001b[39m        - self.delta[i]\u001b[39;00m\n\u001b[0;32m    404\u001b[0m \u001b[39m'''\u001b[39;00m\n\u001b[0;32m    405\u001b[0m \u001b[39m#not using delta anymore\u001b[39;00m\n\u001b[1;32m--> 406\u001b[0m info \u001b[39m=\u001b[39m np\u001b[39m.\u001b[39marray(\u001b[39mself\u001b[39;49m\u001b[39m.\u001b[39;49minformativity)\n\u001b[0;32m    407\u001b[0m idx_toremove \u001b[39m=\u001b[39m np\u001b[39m.\u001b[39margsort(info)[::\u001b[39m-\u001b[39m\u001b[39m1\u001b[39m][:amount]\n\u001b[0;32m    408\u001b[0m \u001b[39mpass\u001b[39;00m\n",
      "\u001b[1;31mAttributeError\u001b[0m: 'IGPR' object has no attribute 'informativity'"
     ]
    }
   ],
   "source": [
    "\n",
    "igpr = IGPR(init_x=training_set[0,:], init_y=training_target[0,:])\n",
    "igpr2 = IGPR(init_x=training_set[0,:], init_y=training_target[0,:])\n",
    "\n",
    "max_kmat_size = 100\n",
    "\n",
    "igpr.max_k_matrix_size = max_kmat_size \n",
    "igpr2.max_k_matrix_size = max_kmat_size \n",
    "\n",
    "DATA_AMT = 200\n",
    "batch_size = 7\n",
    "\n",
    "x = training_set[1:DATA_AMT,:]\n",
    "y = training_target[1:DATA_AMT,:]\n",
    "\n",
    "print(x.shape, y.shape)\n",
    "print(\"===============================\")\n",
    "\n",
    "for j in range(0, len(x), batch_size):\n",
    "    e = j+batch_size if j+batch_size < len(x) else len(x)\n",
    "    # TODO print deltas\n",
    "    # print(np.array(igpr.delta))\n",
    "    # print(\"e \", e)\n",
    "    igpr.learn_batch(x[j:e,:], y[j:e,:])\n",
    "# print(\"===============================\")\n",
    "\n",
    "for i in range(len(x)):\n",
    "    # TODO print deltas\n",
    "    # print(np.array(igpr2.delta))\n",
    "    igpr2.learn(x[i,:], y[i,:])\n",
    "# print(\"last i:\", i)\n",
    "\n",
    "# print(\"===============================\")\n",
    "\n",
    "print(igpr.k_matrix, igpr.k_matrix.shape)\n",
    "print(\"===============================\")\n",
    "print(igpr2.k_matrix, igpr2.k_matrix.shape)\n",
    "print(\"===============================\")\n",
    "# print(np.equal(igpr.k_matrix, igpr2.k_matrix))\n",
    "print(np.abs(np.rint(np.matmul(igpr.k_matrix, igpr.inv_k_matrix))))\n",
    "print(np.abs(np.rint(np.matmul(igpr2.k_matrix, igpr2.inv_k_matrix))))\n",
    "\n",
    "print(\"are the inverses the same? \", np.allclose(igpr.inv_k_matrix, igpr2.inv_k_matrix))\n",
    "print(\"are the matrices the same?\" , np.equal(igpr.k_matrix, igpr2.k_matrix))\n"
   ]
  },
  {
   "cell_type": "code",
   "execution_count": null,
   "metadata": {},
   "outputs": [
    {
     "name": "stdout",
     "output_type": "stream",
     "text": [
      "i: 0 --> (5,)\n",
      "i: 1 --> (5,)\n",
      "i: 2 --> (5,)\n",
      "i: 3 --> (5,)\n",
      "i: 4 --> (5,)\n",
      "i: 5 --> (9,)\n",
      "i: 6 --> (9,)\n",
      "i: 7 --> (9,)\n",
      "i: 8 --> (9,)\n",
      "i: 9 --> (13,)\n",
      "i: 10 --> (13,)\n",
      "i: 11 --> (13,)\n",
      "i: 12 --> (13,)\n",
      "i: 13 --> (17,)\n",
      "i: 14 --> (17,)\n",
      "i: 15 --> (17,)\n",
      "i: 16 --> (17,)\n",
      "i: 17 --> (20,)\n",
      "i: 18 --> (20,)\n",
      "i: 19 --> (20,)\n",
      "(20,) (20,)\n"
     ]
    },
    {
     "data": {
      "text/plain": [
       "deque([array([1, 2, 3, 4, 0], dtype=int64),\n",
       "       array([2, 0, 3, 4, 1], dtype=int64),\n",
       "       array([3, 1, 4, 0, 2], dtype=int64),\n",
       "       array([2, 4, 1, 0, 3], dtype=int64),\n",
       "       array([3, 2, 1, 0, 4], dtype=int64),\n",
       "       array([6, 4, 7, 8, 3, 2, 1, 0, 5], dtype=int64),\n",
       "       array([7, 5, 8, 4, 3, 2, 1, 0, 6], dtype=int64),\n",
       "       array([6, 8, 5, 4, 3, 2, 1, 0, 7], dtype=int64),\n",
       "       array([7, 6, 5, 4, 3, 2, 1, 0, 8], dtype=int64),\n",
       "       array([ 8, 10, 11,  7, 12,  6,  5,  4,  3,  2,  1,  0,  9], dtype=int64),\n",
       "       array([ 9, 11,  8, 12,  7,  6,  5,  4,  3,  2,  1,  0, 10], dtype=int64),\n",
       "       array([10, 12,  9,  8,  7,  6,  5,  4,  3,  2,  1,  0, 11], dtype=int64),\n",
       "       array([11, 10,  9,  8,  7,  6,  5,  4,  3,  2,  1,  0, 12], dtype=int64),\n",
       "       array([14, 12, 15, 11, 16, 10,  9,  8,  7,  6,  5,  4,  3,  2,  1,  0, 13],\n",
       "             dtype=int64),\n",
       "       array([15, 13, 12, 16, 11, 10,  9,  8,  7,  6,  5,  4,  3,  2,  1,  0, 14],\n",
       "             dtype=int64),\n",
       "       array([14, 16, 13, 12, 11, 10,  9,  8,  7,  6,  5,  4,  3,  2,  1,  0, 15],\n",
       "             dtype=int64),\n",
       "       array([15, 14, 13, 12, 11, 10,  9,  8,  7,  6,  5,  4,  3,  2,  1,  0, 16],\n",
       "             dtype=int64),\n",
       "       array([18, 16, 19, 15, 14, 13, 12, 11, 10,  9,  8,  7,  6,  5,  4,  3,  2,\n",
       "               1,  0, 17], dtype=int64),\n",
       "       array([19, 17, 16, 15, 14, 13, 12, 11, 10,  9,  8,  7,  6,  5,  4,  3,  2,\n",
       "               1,  0, 18], dtype=int64),\n",
       "       array([18, 17, 16, 15, 14, 13, 12, 11, 10,  9,  8,  7,  6,  5,  4,  3,  2,\n",
       "               0,  1, 19], dtype=int64)])"
      ]
     },
     "execution_count": 3,
     "metadata": {},
     "output_type": "execute_result"
    }
   ],
   "source": [
    "info = igpr.info_mat\n",
    "kmat = igpr.k_matrix\n",
    "for i in range(len(info)):\n",
    "    print(\"i:\", i, end=\" --> \") \n",
    "    # \"\\tinfo:\", info[i])\n",
    "    print(kmat[i,info[i]].shape)\n",
    "\n",
    "print(kmat[-1].shape, info[-1].shape)\n",
    "\n",
    "info"
   ]
  },
  {
   "cell_type": "code",
   "execution_count": null,
   "metadata": {},
   "outputs": [
    {
     "data": {
      "image/png": "[encoded data removed]",
      "text/plain": [
       "<Figure size 640x480 with 1 Axes>"
      ]
     },
     "metadata": {},
     "output_type": "display_data"
    }
   ],
   "source": [
    "means = []\n",
    "for j in range(0, len(x), batch_size):\n",
    "    e = j+batch_size if j+batch_size < len(x) else len(x)\n",
    "    # TODO print deltas\n",
    "    # print(np.array(igpr.delta))\n",
    "    # print(\"e \", e)\n",
    "    igpr.learn_batch(x[j:e,:], y[j:e,:])\n",
    "    means.append(igpr.k_matrix.mean())\n",
    "\n",
    "from matplotlib import pyplot as plt\n",
    "plt.plot(means)\n",
    "plt.show()"
   ]
  },
  {
   "attachments": {},
   "cell_type": "markdown",
   "metadata": {},
   "source": [
    "### a matrix with a transposed row and col is still I if mul by its inverse?"
   ]
  },
  {
   "attachments": {},
   "cell_type": "markdown",
   "metadata": {},
   "source": [
    "#### answer: YES"
   ]
  },
  {
   "cell_type": "code",
   "execution_count": null,
   "metadata": {},
   "outputs": [
    {
     "name": "stdout",
     "output_type": "stream",
     "text": [
      "[[1. 0. 0. 0. 0.]\n",
      " [0. 1. 0. 0. 0.]\n",
      " [0. 0. 1. 0. 0.]\n",
      " [0. 0. 0. 1. 0.]\n",
      " [0. 0. 0. 0. 1.]]\n",
      "[[5 0 3 3 7]\n",
      " [9 3 5 2 4]\n",
      " [7 6 8 8 1]\n",
      " [6 7 7 8 1]\n",
      " [5 9 8 9 4]]\n",
      "[[5 0 7 3 3]\n",
      " [9 3 4 2 5]\n",
      " [5 9 4 9 8]\n",
      " [6 7 1 8 7]\n",
      " [7 6 1 8 8]]\n",
      "[[1. 0. 0. 0. 0.]\n",
      " [0. 1. 0. 0. 0.]\n",
      " [0. 0. 1. 0. 0.]\n",
      " [0. 0. 0. 1. 0.]\n",
      " [0. 0. 0. 0. 1.]]\n"
     ]
    }
   ],
   "source": [
    "import numpy as np\n",
    "np.random.seed(0)\n",
    "#matrix\n",
    "\n",
    "mat = np.random.randint(0,10,size=(5,5))\n",
    "invmat = np.linalg.inv(mat)\n",
    "\n",
    "mat_mul_inv = np.matmul(mat, invmat)\n",
    "\n",
    "print(np.abs(np.rint(mat_mul_inv)))\n",
    "\n",
    "i=2 #move row 2 to position -1\n",
    "print(mat)\n",
    "\n",
    "mat[[i,-1],:] = mat[[-1,i], :]\n",
    "mat[:,[i,-1]] = mat[:,[-1,i]]\n",
    "print(mat)\n",
    "\n",
    "mat_mul_inv2 = np.matmul(mat, invmat)\n",
    "\n",
    "print(np.abs(np.rint(mat_mul_inv)))\n"
   ]
  },
  {
   "attachments": {},
   "cell_type": "markdown",
   "metadata": {},
   "source": [
    "### np.delete on matrix"
   ]
  },
  {
   "cell_type": "code",
   "execution_count": null,
   "metadata": {},
   "outputs": [
    {
     "name": "stdout",
     "output_type": "stream",
     "text": [
      "[[1. 0. 0. 0.]\n",
      " [0. 1. 0. 0.]\n",
      " [0. 0. 1. 0.]\n",
      " [0. 0. 0. 1.]]\n",
      "[[5 0 3 3]\n",
      " [7 9 3 5]\n",
      " [2 4 7 6]\n",
      " [8 8 1 6]]\n",
      "[[5 0 3]\n",
      " [7 9 5]\n",
      " [8 8 6]]\n",
      "[[1. 0. 0.]\n",
      " [0. 1. 0.]\n",
      " [0. 0. 1.]]\n"
     ]
    }
   ],
   "source": [
    "import numpy as np\n",
    "np.random.seed(0)\n",
    "from matrix_inverse_remove_i import matrix_inverse_remove_i\n",
    "\n",
    "m = np.random.randint(0,10,(4,4))\n",
    "m_inv = np.linalg.inv(m)\n",
    "\n",
    "#print mul\n",
    "print(np.abs(np.rint(np.matmul(m, m_inv))))\n",
    "\n",
    "print(m)\n",
    "m = np.delete(m, 2, axis=1)\n",
    "m = np.delete(m, 2, axis=0)\n",
    "print(m)\n",
    "\n",
    "m_inv = matrix_inverse_remove_i(m_inv, 2)\n",
    "\n",
    "#print mul\n",
    "print(np.abs(np.rint(np.matmul(m, m_inv))))\n"
   ]
  },
  {
   "attachments": {},
   "cell_type": "markdown",
   "metadata": {},
   "source": [
    "### np.maximum between  n,1  and  n,x"
   ]
  },
  {
   "cell_type": "code",
   "execution_count": null,
   "metadata": {},
   "outputs": [
    {
     "name": "stdout",
     "output_type": "stream",
     "text": [
      "[18 18 18 18 18 18]\n",
      "[[15 11  8  7 19 11]\n",
      " [11  4  8  3  2 12]\n",
      " [ 6  2  1 12 12 17]\n",
      " [10 16 15 15 19 12]]\n",
      "\n",
      "==================\n",
      "\n",
      "[15 16 15 15 19 17]\n"
     ]
    },
    {
     "data": {
      "text/plain": [
       "array([18, 18, 18, 18, 19, 18])"
      ]
     },
     "execution_count": 7,
     "metadata": {},
     "output_type": "execute_result"
    }
   ],
   "source": [
    "import numpy as np\n",
    "np.random.seed(42)\n",
    "\n",
    "n = 6\n",
    "x = 4\n",
    "\n",
    "a = np.ones(n, dtype=np.int32)*np.random.randint(12,19)\n",
    "\n",
    "b = np.random.randint(1,20, size=(x,n))\n",
    "\n",
    "print(a)\n",
    "print(b)\n",
    "\n",
    "print(\"\\n==================\\n\")\n",
    "\n",
    "p=np.max(b, axis=0)\n",
    "print(p)\n",
    "np.max((a,p), axis=0)\n"
   ]
  },
  {
   "cell_type": "code",
   "execution_count": null,
   "metadata": {},
   "outputs": [],
   "source": [
    "import numpy as np\n",
    "\n",
    "A = np.arange(10)\n",
    "A = np.array((A,A,A,A))\n",
    "B = np.array([2,4,5,7])\n",
    "\n",
    "# i would like the result\n",
    "# res = [A+2, A+4, A+5, A+7]"
   ]
  },
  {
   "attachments": {},
   "cell_type": "markdown",
   "metadata": {},
   "source": [
    "### np.array(deque()) does it copy of not?"
   ]
  },
  {
   "attachments": {},
   "cell_type": "markdown",
   "metadata": {},
   "source": [
    "answer: NO"
   ]
  },
  {
   "cell_type": "code",
   "execution_count": null,
   "metadata": {},
   "outputs": [
    {
     "data": {
      "text/plain": [
       "(array([5, 6, 7, 8]), deque([1, 2, 3, 4]))"
      ]
     },
     "execution_count": 9,
     "metadata": {},
     "output_type": "execute_result"
    }
   ],
   "source": [
    "import numpy as np\n",
    "from collections import deque\n",
    "\n",
    "a = deque([1,2,3,4])\n",
    "b = np.array(a)\n",
    "b+=4\n",
    "b,a"
   ]
  },
  {
   "attachments": {},
   "cell_type": "markdown",
   "metadata": {},
   "source": [
    "### np.argmax gets the first or a list of argmaxes if more than one?"
   ]
  },
  {
   "cell_type": "code",
   "execution_count": null,
   "metadata": {},
   "outputs": [
    {
     "data": {
      "text/plain": [
       "array([0, 1, 3, 5, 4, 5])"
      ]
     },
     "execution_count": 10,
     "metadata": {},
     "output_type": "execute_result"
    }
   ],
   "source": [
    "import numpy as np\n",
    "\n",
    "a = np.array([0,1,3,4,5,4,5])\n",
    "m = np.max(a)\n",
    "np.where(np.isin(a,m))[0].max()\n",
    "\n",
    "np.delete(a,3)"
   ]
  },
  {
   "attachments": {},
   "cell_type": "markdown",
   "metadata": {},
   "source": [
    "### from kernel matrix compute informativity array "
   ]
  },
  {
   "cell_type": "code",
   "execution_count": null,
   "metadata": {},
   "outputs": [],
   "source": [
    "from IGPR import *\n",
    "import numpy as np\n",
    "np.set_printoptions(precision=3)\n",
    "np.random.seed(5)\n",
    "\n",
    "def load_csv(file_name):\n",
    "    with open(file_name, \"r\") as f:\n",
    "        reader = csv.reader(f)\n",
    "        columns = [row for row in reader]\n",
    "\n",
    "    columns = np.array(columns)\n",
    "    m_x, n_x = columns.shape\n",
    "    data_set = np.zeros((m_x, n_x))\n",
    "    for i in range(m_x):\n",
    "        for j in range(n_x):\n",
    "            data_set[i][j] = float(columns[i][j])\n",
    "    return data_set\n",
    "\n",
    "training_set = load_csv('training_set.csv')\n",
    "training_target = load_csv('training_target.csv')\n",
    "test_set = load_csv('test_set.csv')\n",
    "test_target = load_csv('test_target.csv')"
   ]
  },
  {
   "cell_type": "code",
   "execution_count": null,
   "metadata": {},
   "outputs": [
    {
     "name": "stdout",
     "output_type": "stream",
     "text": [
      "(999, 21) (999, 7)\n",
      "===============================\n",
      "[[1.01  0.524 0.313 ... 0.168 0.116 0.046]\n",
      " [0.524 1.01  0.822 ... 0.182 0.113 0.061]\n",
      " [0.313 0.822 1.01  ... 0.185 0.13  0.079]\n",
      " ...\n",
      " [0.168 0.182 0.185 ... 1.01  0.525 0.207]\n",
      " [0.116 0.113 0.13  ... 0.525 1.01  0.255]\n",
      " [0.046 0.061 0.079 ... 0.207 0.255 1.01 ]] (100, 100)\n",
      "===============================\n",
      "[[1. 0. 0. ... 0. 0. 0.]\n",
      " [0. 1. 0. ... 0. 0. 0.]\n",
      " [0. 0. 1. ... 0. 0. 0.]\n",
      " ...\n",
      " [0. 0. 0. ... 1. 0. 0.]\n",
      " [0. 0. 0. ... 0. 1. 0.]\n",
      " [0. 0. 0. ... 0. 0. 1.]]\n",
      "[[1. 0. 0. ... 0. 0. 0.]\n",
      " [0. 1. 0. ... 0. 0. 0.]\n",
      " [0. 0. 1. ... 0. 0. 0.]\n",
      " ...\n",
      " [0. 0. 0. ... 1. 0. 0.]\n",
      " [0. 0. 0. ... 0. 1. 0.]\n",
      " [0. 0. 0. ... 0. 0. 1.]]\n",
      "===============================\n",
      "True\n"
     ]
    }
   ],
   "source": [
    "igpr = IGPR(init_x=training_set[0,:], init_y=training_target[0,:])\n",
    "\n",
    "max_kmat_size = 100\n",
    "\n",
    "igpr.max_k_matrix_size = max_kmat_size \n",
    "\n",
    "DATA_AMT = 1000\n",
    "batch_size = 3\n",
    "\n",
    "x = training_set[1:DATA_AMT,:]\n",
    "y = training_target[1:DATA_AMT,:]\n",
    "\n",
    "print(x.shape, y.shape)\n",
    "print(\"===============================\")\n",
    "\n",
    "for j in range(0, len(x), batch_size):\n",
    "    e = j+batch_size if j+batch_size < len(x) else len(x)\n",
    "    igpr.learn_batch(x[j:e,:], y[j:e,:])\n",
    "\n",
    "\n",
    "print(igpr.k_matrix, igpr.k_matrix.shape)\n",
    "print(\"===============================\")\n",
    "print(np.abs(np.rint(np.matmul(igpr.k_matrix, igpr.inv_k_matrix))))\n",
    "print(np.abs(np.rint(np.matmul(igpr.k_matrix, np.linalg.inv(igpr.k_matrix)))))\n",
    "print(\"===============================\")\n",
    "print(np.allclose(igpr.inv_k_matrix, np.linalg.inv(igpr.k_matrix)))"
   ]
  },
  {
   "cell_type": "code",
   "execution_count": null,
   "metadata": {},
   "outputs": [
    {
     "name": "stdout",
     "output_type": "stream",
     "text": [
      "[[1. 0. 0. ... 0. 0. 0.]\n",
      " [0. 1. 0. ... 0. 0. 0.]\n",
      " [0. 0. 1. ... 0. 0. 0.]\n",
      " ...\n",
      " [0. 0. 0. ... 1. 0. 0.]\n",
      " [0. 0. 0. ... 0. 1. 0.]\n",
      " [0. 0. 0. ... 0. 0. 1.]]\n",
      "[[ 0.00908579 -0.00386452  0.00989353 ...  0.01575253  0.01198646\n",
      "  -0.01061993]\n",
      " [-0.05001289  0.03392263  0.07617108 ...  0.04039016  0.05799328\n",
      "  -0.1126819 ]\n",
      " [ 0.02960187  0.01819268  0.0007117  ... -0.00532599 -0.00852206\n",
      "   0.04728897]\n",
      " ...\n",
      " [ 0.03502574  0.02970915  0.01194296 ...  0.02267534 -0.00578501\n",
      "   0.01202483]\n",
      " [ 0.03491446 -0.02598895  0.0619368  ...  0.01808543 -0.04151787\n",
      "   0.0473221 ]\n",
      " [-0.02059919 -0.00772009  0.1040206  ...  0.02629731 -0.02679101\n",
      "  -0.01041278]]\n",
      "[3 7 0 6 3 8 8 5 6 4 6 0 1 2 3 2 7 8 6 2 2 9 5 0 2 1 8 8 3 8 3 2 6 0 4 6 8\n",
      " 5 8 0 6 8 7 0 9 4 4 0 7 6 6 4 1 4 9 4 2 1 3 8 4 1 9 7 2 4 9 3 2 8 4 4 8 6\n",
      " 7 2 6 3 4 6 9 8 8 9 5 1 9 6 8 8 4 7 7 4 1 2 8 0 8 1]\n",
      "===============================\n",
      "[[1. 0. 0. ... 0. 0. 0.]\n",
      " [0. 1. 0. ... 0. 0. 0.]\n",
      " [0. 0. 1. ... 0. 0. 0.]\n",
      " ...\n",
      " [0. 0. 0. ... 1. 0. 0.]\n",
      " [0. 0. 0. ... 0. 1. 0.]\n",
      " [0. 0. 0. ... 0. 0. 1.]]\n",
      "[[1. 0. 0. ... 0. 0. 0.]\n",
      " [0. 1. 0. ... 0. 0. 0.]\n",
      " [0. 0. 1. ... 0. 0. 0.]\n",
      " ...\n",
      " [0. 0. 0. ... 1. 0. 0.]\n",
      " [0. 0. 0. ... 0. 1. 0.]\n",
      " [0. 0. 0. ... 0. 0. 1.]]\n",
      "===============================\n"
     ]
    }
   ],
   "source": [
    "import numpy as np\n",
    "np.random.seed(0)\n",
    "np.printoptions(precision=2)\n",
    "\n",
    "km = np.random.randint(0,10,size=(100,100), dtype=np.int32)\n",
    "km_inv = np.linalg.inv(km)\n",
    "km[[2,-1],:] = km[[-1,2], :]\n",
    "km[:,[2,-1]] = km[:,[-1,2]]\n",
    "km_inv[[2,-1],:] = km_inv[[-1,2], :]\n",
    "km_inv[:,[2,-1]] = km_inv[:,[-1,2]]\n",
    "print(np.abs(np.rint(np.matmul(km, km_inv))))\n",
    "print(km_inv)\n",
    "idx = 2\n",
    "print(km[idx,:])\n",
    "km = np.delete(km, idx, axis=1)\n",
    "km = np.delete(km, idx, axis=0)\n",
    "from matrix_inverse_remove_i import matrix_inverse_remove_i\n",
    "km_inv = matrix_inverse_remove_i(km_inv, idx)\n",
    "\n",
    "print(\"===============================\")\n",
    "print(np.abs(np.rint(np.matmul(km, km_inv))))\n",
    "print(np.abs(np.rint(np.matmul(km, np.linalg.inv(km)))))\n",
    "print(\"===============================\")"
   ]
  },
  {
   "cell_type": "code",
   "execution_count": null,
   "metadata": {},
   "outputs": [
    {
     "name": "stdout",
     "output_type": "stream",
     "text": [
      "[[0 1 2 3]\n",
      " [1 2 3 4]\n",
      " [2 3 4 5]\n",
      " [3 4 5 6]]\n",
      "[[0 3 2 1]\n",
      " [3 6 5 4]\n",
      " [2 5 4 3]\n",
      " [1 4 3 2]]\n",
      "[[0 3 2]\n",
      " [3 6 5]\n",
      " [2 5 4]]\n",
      "[[0 2 3]\n",
      " [2 4 5]\n",
      " [3 5 6]]\n",
      "[[0 2 3]\n",
      " [2 4 5]\n",
      " [3 5 6]]\n"
     ]
    }
   ],
   "source": [
    "mat0 = np.array([[0,1,2,3], [1,2,3,4], [2,3,4,5], [3,4,5,6]])\n",
    "mat = mat0.copy()\n",
    "print(mat)\n",
    "\n",
    "# move row, col 1 to last, then remove last, then move back\n",
    "del_idx = 1\n",
    "\n",
    "mat[[del_idx,-1],:] = mat[[-1,del_idx], :]\n",
    "mat[:,[del_idx,-1]] = mat[:,[-1,del_idx]]\n",
    "print(mat)\n",
    "\n",
    "\n",
    "mat = np.delete(mat, -1, axis=1)\n",
    "mat = np.delete(mat, -1, axis=0)\n",
    "print(mat)\n",
    "\n",
    "indxs1 = np.arange(mat.shape[0])\n",
    "rolled = indxs1[del_idx:]\n",
    "\n",
    "rolled = np.roll(rolled, -1)\n",
    "indxs2 = indxs1.copy()\n",
    "indxs2[del_idx:] = rolled\n",
    "\n",
    "mat[indxs1,:] = mat[indxs2,:]\n",
    "mat[:,indxs1] = mat[:,indxs2]\n",
    "print(mat)\n",
    "\n",
    "print(np.delete(np.delete(mat0, del_idx, axis=1), del_idx, axis=0))\n"
   ]
  },
  {
   "cell_type": "code",
   "execution_count": null,
   "metadata": {},
   "outputs": [],
   "source": [
    "from IGPR import *\n",
    "import numpy as np\n",
    "np.set_printoptions(precision=2)\n",
    "np.random.seed(5)\n",
    "\n",
    "def load_csv(file_name):\n",
    "    with open(file_name, \"r\") as f:\n",
    "        reader = csv.reader(f)\n",
    "        columns = [row for row in reader]\n",
    "\n",
    "    columns = np.array(columns)\n",
    "    \n",
    "    m_x, n_x = columns.shape\n",
    "    data_set = np.zeros((m_x, n_x))\n",
    "    for i in range(m_x):\n",
    "        for j in range(n_x):\n",
    "            data_set[i][j] = float(columns[i][j])\n",
    "    return data_set\n",
    "\n",
    "training_set = load_csv('training_set.csv')\n",
    "training_target = load_csv('training_target.csv')\n",
    "test_set = load_csv('test_set.csv')\n",
    "test_target = load_csv('test_target.csv')\n"
   ]
  },
  {
   "cell_type": "code",
   "execution_count": null,
   "metadata": {},
   "outputs": [
    {
     "name": "stdout",
     "output_type": "stream",
     "text": [
      "[[ 0 66]\n",
      " [ 1  8]\n",
      " [ 2  3]\n",
      " [ 3  2]\n",
      " [ 4  0]\n",
      " [ 5 99]\n",
      " [ 6  1]\n",
      " [ 7  4]\n",
      " [ 8  7]\n",
      " [ 9  9]\n",
      " [10 10]\n",
      " [11 12]\n",
      " [12 32]\n",
      " [13 55]\n",
      " [14 79]\n",
      " [15 82]\n",
      " [16 87]\n",
      " [17 93]\n",
      " [18 93]\n",
      " [19 93]\n",
      " [20 93]\n",
      " [21 93]\n",
      " [22 93]\n",
      " [23 93]\n",
      " [24 93]\n",
      " [25 90]\n",
      " [26 85]\n",
      " [27 54]\n",
      " [28 57]\n",
      " [29 61]\n",
      " [30 68]\n",
      " [31 85]\n",
      " [32 93]\n",
      " [33 93]\n",
      " [34 93]\n",
      " [35 93]\n",
      " [36 93]\n",
      " [37 93]\n",
      " [38 93]\n",
      " [39 93]\n",
      " [40 93]\n",
      " [41 93]\n",
      " [42 93]\n",
      " [43 93]\n",
      " [44 93]\n",
      " [45 93]\n",
      " [46 93]\n",
      " [47 93]\n",
      " [48 93]\n",
      " [49 93]\n",
      " [50 93]\n",
      " [51 93]\n",
      " [52 93]\n",
      " [53 93]\n",
      " [54 93]\n",
      " [55 93]\n",
      " [56 93]\n",
      " [57 93]\n",
      " [58 93]\n",
      " [59 93]\n",
      " [60 93]\n",
      " [61 93]\n",
      " [62 93]\n",
      " [63 93]\n",
      " [64 93]\n",
      " [65 93]\n",
      " [66 93]\n",
      " [67 93]\n",
      " [68 93]\n",
      " [69 93]\n",
      " [70 93]\n",
      " [71 93]\n",
      " [72 93]\n",
      " [73 93]\n",
      " [74 93]\n",
      " [75 93]\n",
      " [76 93]\n",
      " [77 93]\n",
      " [78 93]\n",
      " [79 93]\n",
      " [80 93]\n",
      " [81 93]\n",
      " [82 93]\n",
      " [83 93]\n",
      " [84 93]\n",
      " [85 93]\n",
      " [86 93]\n",
      " [87 93]\n",
      " [88 93]\n",
      " [89 93]\n",
      " [90 93]\n",
      " [91 93]\n",
      " [92 93]\n",
      " [93 93]\n",
      " [94 93]\n",
      " [95 93]\n",
      " [96 93]\n",
      " [97 93]\n",
      " [98 93]\n",
      " [99 93]]\n",
      "[[ 1  2 24 ... 11 12  0]\n",
      " [ 2  0  3 ... 50 51  1]\n",
      " [ 3  1  4 ... 98 51  2]\n",
      " ...\n",
      " [95 97 94 ...  1  0 96]\n",
      " [98 96 95 ...  1  0 97]\n",
      " [97 96 95 ...  0  1 98]]\n"
     ]
    },
    {
     "ename": "ValueError",
     "evalue": "all the input array dimensions for the concatenation axis must match exactly, but along dimension 0, the array at index 0 has size 99 and the array at index 1 has size 98",
     "output_type": "error",
     "traceback": [
      "\u001b[1;31m---------------------------------------------------------------------------\u001b[0m",
      "\u001b[1;31mValueError\u001b[0m                                Traceback (most recent call last)",
      "Cell \u001b[1;32mIn[4], line 29\u001b[0m\n\u001b[0;32m     27\u001b[0m inf \u001b[39m=\u001b[39m np\u001b[39m.\u001b[39marray(info_idx)\n\u001b[0;32m     28\u001b[0m rows \u001b[39m=\u001b[39m np\u001b[39m.\u001b[39mrepeat(np\u001b[39m.\u001b[39marange(inf\u001b[39m.\u001b[39mshape[\u001b[39m0\u001b[39m]), inf\u001b[39m.\u001b[39mshape[\u001b[39m1\u001b[39m])\u001b[39m.\u001b[39mreshape(inf\u001b[39m.\u001b[39mshape)\n\u001b[1;32m---> 29\u001b[0m inf \u001b[39m=\u001b[39m np\u001b[39m.\u001b[39;49mappend(inf, np\u001b[39m.\u001b[39;49mzeros((inf\u001b[39m.\u001b[39;49mshape[\u001b[39m0\u001b[39;49m]\u001b[39m-\u001b[39;49m\u001b[39m1\u001b[39;49m, \u001b[39m1\u001b[39;49m)), axis\u001b[39m=\u001b[39;49m\u001b[39m1\u001b[39;49m)\n\u001b[0;32m     30\u001b[0m rows \u001b[39m=\u001b[39m np\u001b[39m.\u001b[39mappend(rows, np\u001b[39m.\u001b[39mzeros((rows\u001b[39m.\u001b[39mshape[\u001b[39m0\u001b[39m]\u001b[39m-\u001b[39m\u001b[39m1\u001b[39m, \u001b[39m1\u001b[39m))\u001b[39m+\u001b[39minf\u001b[39m.\u001b[39mshape[\u001b[39m0\u001b[39m], axis\u001b[39m=\u001b[39m\u001b[39m1\u001b[39m)\n\u001b[0;32m     31\u001b[0m \u001b[39mprint\u001b[39m(rows)\n",
      "File \u001b[1;32m<__array_function__ internals>:180\u001b[0m, in \u001b[0;36mappend\u001b[1;34m(*args, **kwargs)\u001b[0m\n",
      "File \u001b[1;32m~\\AppData\\Roaming\\Python\\Python310\\site-packages\\numpy\\lib\\function_base.py:5444\u001b[0m, in \u001b[0;36mappend\u001b[1;34m(arr, values, axis)\u001b[0m\n\u001b[0;32m   5442\u001b[0m     values \u001b[39m=\u001b[39m ravel(values)\n\u001b[0;32m   5443\u001b[0m     axis \u001b[39m=\u001b[39m arr\u001b[39m.\u001b[39mndim\u001b[39m-\u001b[39m\u001b[39m1\u001b[39m\n\u001b[1;32m-> 5444\u001b[0m \u001b[39mreturn\u001b[39;00m concatenate((arr, values), axis\u001b[39m=\u001b[39;49maxis)\n",
      "File \u001b[1;32m<__array_function__ internals>:180\u001b[0m, in \u001b[0;36mconcatenate\u001b[1;34m(*args, **kwargs)\u001b[0m\n",
      "\u001b[1;31mValueError\u001b[0m: all the input array dimensions for the concatenation axis must match exactly, but along dimension 0, the array at index 0 has size 99 and the array at index 1 has size 98"
     ]
    }
   ],
   "source": [
    "#now lets say we have removed item at index 5 from kmat, what happens to informativity?\n",
    "#remove the value 5 from informativity idx matrix\n",
    "#sub 1 to all indices >5\n",
    "# informativity = info_array_idx[:,0]\n",
    "\n",
    "km = kmat.copy()\n",
    "\n",
    "km = np.delete(km, 5, axis=1)\n",
    "km = np.delete(km, 5, axis=0)\n",
    "\n",
    "km, km.shape\n",
    "\n",
    "info_idx = info_array_idx.copy()\n",
    "sss = np.where(np.isin(info_idx, 5))\n",
    "print(np.array(sss).T)\n",
    "# info_idx = np.delete(info_idx, ).reshape(info_idx.shape[0], info_idx.shape[1]-1)\n",
    "# print(info_idx)\n",
    "# for s in range(len(sss)): del info_idx[sss[0][s]][sss[1][s]]\n",
    "# a = info_idx[0]\n",
    "for i in range(len(info_idx)): \n",
    "    info_idx[i]=np.delete(info_idx[i], np.where(np.isin(info_idx[i], 5)))\n",
    "    info_idx[i][info_idx[i]>5]-=1\n",
    "\n",
    "del info_idx[5]\n",
    "\n",
    "print(np.array(info_idx))\n",
    "inf = np.array(info_idx)\n",
    "rows = np.repeat(np.arange(inf.shape[0]), inf.shape[1]).reshape(inf.shape)\n",
    "inf = np.append(inf, np.zeros((inf.shape[0]-1, 1)), axis=1)\n",
    "rows = np.append(rows, np.zeros((rows.shape[0]-1, 1))+inf.shape[0], axis=1)\n",
    "print(rows)\n",
    "print(km[rows, inf])\n"
   ]
  },
  {
   "attachments": {},
   "cell_type": "markdown",
   "metadata": {},
   "source": [
    "### can I translate a deque of np arrays of different sizes to a np array? "
   ]
  },
  {
   "cell_type": "code",
   "execution_count": null,
   "metadata": {},
   "outputs": [
    {
     "data": {
      "text/plain": [
       "array([[0., 0., 0., 0., 0., 0., 0., 0., 0.],\n",
       "       [0., 0., 0., 0., 0., 0., 0., 0., 0.],\n",
       "       [0., 0., 0., 0., 0., 0., 0., 0., 0.]])"
      ]
     },
     "execution_count": 188,
     "metadata": {},
     "output_type": "execute_result"
    }
   ],
   "source": [
    "import numpy as np\n",
    "from collections import deque\n",
    "\n",
    "matrix = np.zeros((10,10))\n",
    "\n",
    "a = np.array([1,2,3,4,5,6,7,8,9])\n",
    "b = np.array([1,2,3,4,5,6,7,8,9])\n",
    "c = np.array([1,2,3,4,5,6,7,8,0])\n",
    "\n",
    "x = deque([a,b,c])\n",
    "\n",
    "rows = np.repeat(np.arange(3), 9).reshape(3,9)\n",
    "\n",
    "matrix[rows, x]"
   ]
  },
  {
   "attachments": {},
   "cell_type": "markdown",
   "metadata": {},
   "source": [
    "### remove samples usage"
   ]
  },
  {
   "cell_type": "code",
   "execution_count": null,
   "metadata": {},
   "outputs": [
    {
     "name": "stdout",
     "output_type": "stream",
     "text": [
      "(100, 21) (100, 7)\n",
      "===============================\n",
      "[[1.01  0.524 0.313 ... 0.075 0.078 0.083]\n",
      " [0.524 1.01  0.822 ... 0.077 0.08  0.087]\n",
      " [0.313 0.822 1.01  ... 0.085 0.089 0.098]\n",
      " ...\n",
      " [0.075 0.077 0.085 ... 1.01  0.997 0.97 ]\n",
      " [0.078 0.08  0.089 ... 0.997 1.01  0.987]\n",
      " [0.083 0.087 0.098 ... 0.97  0.987 1.01 ]] (100, 100)\n",
      "===============================\n",
      "[[1. 0. 0. ... 0. 0. 0.]\n",
      " [0. 1. 0. ... 0. 0. 0.]\n",
      " [0. 0. 1. ... 0. 0. 0.]\n",
      " ...\n",
      " [0. 0. 0. ... 1. 0. 0.]\n",
      " [0. 0. 0. ... 0. 1. 0.]\n",
      " [0. 0. 0. ... 0. 0. 1.]]\n",
      "[[1. 0. 0. ... 0. 0. 0.]\n",
      " [0. 1. 0. ... 0. 0. 0.]\n",
      " [0. 0. 1. ... 0. 0. 0.]\n",
      " ...\n",
      " [0. 0. 0. ... 1. 0. 0.]\n",
      " [0. 0. 0. ... 0. 1. 0.]\n",
      " [0. 0. 0. ... 0. 0. 1.]]\n",
      "===============================\n",
      "True\n"
     ]
    }
   ],
   "source": [
    "from IGPR import *\n",
    "import numpy as np\n",
    "np.set_printoptions(precision=3)\n",
    "np.random.seed(5)\n",
    "\n",
    "def load_csv(file_name):\n",
    "    with open(file_name, \"r\") as f:\n",
    "        reader = csv.reader(f)\n",
    "        columns = [row for row in reader]\n",
    "\n",
    "    columns = np.array(columns)\n",
    "    m_x, n_x = columns.shape\n",
    "    data_set = np.zeros((m_x, n_x))\n",
    "    for i in range(m_x):\n",
    "        for j in range(n_x):\n",
    "            data_set[i][j] = float(columns[i][j])\n",
    "    return data_set\n",
    "\n",
    "training_set = load_csv('training_set.csv')\n",
    "training_target = load_csv('training_target.csv')\n",
    "test_set = load_csv('test_set.csv')\n",
    "test_target = load_csv('test_target.csv')\n",
    "igpr = BIGPR(init_x=training_set[0,:], init_y=training_target[0,:])\n",
    "\n",
    "max_kmat_size = 100\n",
    "\n",
    "igpr.max_k_matrix_size = max_kmat_size \n",
    "\n",
    "DATA_AMT = 101\n",
    "batch_size = 3\n",
    "\n",
    "x = training_set[1:DATA_AMT,:]\n",
    "y = training_target[1:DATA_AMT,:]\n",
    "\n",
    "print(x.shape, y.shape)\n",
    "print(\"===============================\")\n",
    "\n",
    "for j in range(0, len(x), batch_size):\n",
    "    e = j+batch_size if j+batch_size < len(x) else len(x)\n",
    "    igpr.learn_batch(x[j:e,:], y[j:e,:])\n",
    "\n",
    "\n",
    "print(igpr.k_matrix, igpr.k_matrix.shape)\n",
    "print(\"===============================\")\n",
    "print(np.abs(np.rint(np.matmul(igpr.k_matrix, igpr.inv_k_matrix))))\n",
    "print(np.abs(np.rint(np.matmul(igpr.k_matrix, np.linalg.inv(igpr.k_matrix)))))\n",
    "print(\"===============================\")\n",
    "print(np.allclose(igpr.inv_k_matrix, np.linalg.inv(igpr.k_matrix)))"
   ]
  },
  {
   "cell_type": "code",
   "execution_count": null,
   "metadata": {},
   "outputs": [],
   "source": [
    "def remove_k_samples(amount, kmat, infomat, delta, inv_kmat):\n",
    "    # idx_toremove = []\n",
    "    for i in range(amount):\n",
    "        info = np.array([inforow[0] for inforow in infomat])        #infomat already sorted\n",
    "        print(\"info:\",info)\n",
    "        info_values = kmat[np.arange(len(info)), info]\n",
    "        argmaxs = np.argwhere(info_values == np.amax(info_values)).flatten()\n",
    "        print(\"argmaxs:\",argmaxs)\n",
    "        print(\"argmaxs twins:\",info[argmaxs])\n",
    "        print(\"their values: (all same)\",info_values[argmaxs])\n",
    "        idx_toremove = np.unique((info[argmaxs], argmaxs))    # info[argmaxs] are the simmetric indices (not always present in argmaxs since infomat is \"diagonal\", deque of arrays)\n",
    "        print(\"idx w max correlation\",idx_toremove)\n",
    "\n",
    "        #####  HERE IDX_TOREMOVE IS A LIST OF MAX CORRELATED SAMPLES\n",
    "        #####  NOW WE NEED TO CHOOSE THE WORST IN TERMS OF DELTA\n",
    "\n",
    "        print(\"delta:\", delta[argmaxs])\n",
    "        idx_toremove_idx = np.argwhere(delta[argmaxs] == np.amax(delta[argmaxs])).flatten()\n",
    "        print(\"where maxdelta\",idx_toremove_idx, \"\\tits idx:\", argmaxs[idx_toremove_idx], \"\\tits corr value & delta:\", info_values[argmaxs[idx_toremove_idx]], delta[argmaxs[idx_toremove_idx]])\n",
    "\n",
    "        ##### NOW WE HAVE THE ONE TO BE REMOVED, APPLY REMOVING AND REITERATE\n",
    "        kill = argmaxs[idx_toremove_idx].flatten()[0]\n",
    "        print(\"kill:\", kill)\n",
    "\n",
    "        print()\n",
    "        print(delta)\n",
    "        print(kmat[kill,:])\n",
    "        delta -= kmat[kill, :]\n",
    "        print(delta)\n",
    "        delta = np.delete(delta,kill)\n",
    "        print(delta)\n",
    "        print()\n",
    "        # del self.kernel_x[i]\n",
    "        # del self.kernel_y[i]\n",
    "        kmat = np.delete(kmat, kill, axis=0)\n",
    "        kmat = np.delete(kmat, kill, axis=1)\n",
    "        inv_kmat = matrix_inverse_remove_i(inv_kmat, kill)\n",
    "\n",
    "        #remove `kill` from infomat, recompute info at the beginning\n",
    "        print(\"AAA\", len(infomat))\n",
    "        infomat = np.delete(infomat, kill)\n",
    "        print(\"AAA\", len(infomat))\n",
    "        for i in range(len(infomat)): \n",
    "            infomat[i]=np.delete(infomat[i], np.where(np.isin(infomat[i], kill)))\n",
    "            infomat[i][infomat[i] > kill]-=1\n",
    "\n",
    "\n",
    "        print(np.abs(np.rint(np.matmul(kmat, inv_kmat))))\n",
    "\n",
    "        # idx = np.argmax(infoarray)\n",
    "        # idx_toremove.append( (idx, infoarray[idx]) )\n",
    "        print(\"\\n===============================\\n\")\n",
    "\n"
   ]
  },
  {
   "cell_type": "code",
   "execution_count": null,
   "metadata": {},
   "outputs": [
    {
     "name": "stdout",
     "output_type": "stream",
     "text": [
      "info: [1 2 3 2 5 6 5]\n",
      "argmaxs: [5 6]\n",
      "argmaxs twins: [6 5]\n",
      "their values: (all same) [0.964 0.964]\n",
      "idx w max correlation [5 6]\n",
      "delta: [4.256 4.056]\n",
      "where maxdelta [0] \tits idx: [5] \tits corr value & delta: [0.964] [4.256]\n",
      "kill: 5\n",
      "\n",
      "[2.267 3.436 4.19  4.514 4.342 4.256 4.056]\n",
      "[0.08  0.189 0.392 0.66  0.962 1.01  0.964]\n",
      "[2.187 3.247 3.798 3.854 3.38  3.246 3.092]\n",
      "[2.187 3.247 3.798 3.854 3.38  3.092]\n",
      "\n",
      "AAA 7\n",
      "AAA 6\n",
      "[[1. 0. 0. 0. 0. 0.]\n",
      " [0. 1. 0. 0. 0. 0.]\n",
      " [0. 0. 1. 0. 0. 0.]\n",
      " [0. 0. 0. 1. 0. 0.]\n",
      " [0. 0. 0. 0. 1. 0.]\n",
      " [0. 0. 0. 0. 0. 1.]]\n",
      "\n",
      "===============================\n",
      "\n",
      "info: [1 2 3 2 5 4]\n",
      "argmaxs: [4 5]\n",
      "argmaxs twins: [5 4]\n",
      "their values: (all same) [0.866 0.866]\n",
      "idx w max correlation [4 5]\n",
      "delta: [3.38  3.092]\n",
      "where maxdelta [0] \tits idx: [4] \tits corr value & delta: [0.866] [3.38]\n",
      "kill: 4\n",
      "\n",
      "[2.187 3.247 3.798 3.854 3.38  3.092]\n",
      "[0.08  0.208 0.452 0.765 1.01  0.866]\n",
      "[2.107 3.04  3.346 3.089 2.37  2.226]\n",
      "[2.107 3.04  3.346 3.089 2.226]\n",
      "\n",
      "AAA 6\n",
      "AAA 5\n",
      "[[1. 0. 0. 0. 0.]\n",
      " [0. 1. 0. 0. 0.]\n",
      " [0. 0. 1. 0. 0.]\n",
      " [0. 0. 0. 1. 0.]\n",
      " [0. 0. 0. 0. 1.]]\n",
      "\n",
      "===============================\n",
      "\n",
      "info: [1 2 3 2 3]\n",
      "argmaxs: [2 3]\n",
      "argmaxs twins: [3 2]\n",
      "their values: (all same) [0.839 0.839]\n",
      "idx w max correlation [2 3]\n",
      "delta: [3.346 3.089]\n",
      "where maxdelta [0] \tits idx: [2] \tits corr value & delta: [0.839] [3.346]\n",
      "kill: 2\n",
      "\n",
      "[2.107 3.04  3.346 3.089 2.226]\n",
      "[0.313 0.822 1.01  0.839 0.363]\n",
      "[1.795 2.218 2.336 2.25  1.864]\n",
      "[1.795 2.218 2.25  1.864]\n",
      "\n",
      "AAA 5\n",
      "AAA 4\n",
      "[[1. 0. 0. 0.]\n",
      " [0. 1. 0. 0.]\n",
      " [0. 0. 1. 0.]\n",
      " [0. 0. 0. 1.]]\n",
      "\n",
      "===============================\n",
      "\n"
     ]
    }
   ],
   "source": [
    "kmat = igpr.k_matrix.copy()\n",
    "inv_kmat = igpr.inv_k_matrix.copy()\n",
    "infomat = igpr.info_mat.copy()\n",
    "delta = np.array(igpr.delta.copy())\n",
    "\n",
    "remove_k_samples(3, kmat, infomat, delta, inv_kmat)\n",
    "\n",
    "infomat = igpr.compute_info_mat(kmat)"
   ]
  },
  {
   "attachments": {},
   "cell_type": "markdown",
   "metadata": {},
   "source": [
    "### inverse matrix remove indices"
   ]
  },
  {
   "cell_type": "code",
   "execution_count": 31,
   "metadata": {},
   "outputs": [],
   "source": [
    "def matrix_remove(A, i_s):\n",
    "    \n",
    "    # check A square matrix\n",
    "    n = A.shape[0]\n",
    "    assert A.shape[1] == n, \"Ainv must be a square matrix\"\n",
    "\n",
    "    # order i_s in descending order\n",
    "    assert len(i_s) > 0, \"i_s must be a non-empty list\"\n",
    "    i_s = np.concatenate((i_s, [n]))\n",
    "    i_s = np.sort(i_s)[::-1]\n",
    "\n",
    "    # call x_s all As indices\n",
    "    x_s = np.arange(n)\n",
    "\n",
    "    bd_stack = []\n",
    "\n",
    "    # start np.rolls\n",
    "    print(\"0 )\\t\\t\", x_s)\n",
    "    print()\n",
    "    print(A)\n",
    "    print(\"\\n\")\n",
    "    for h in range(1, len(i_s)):\n",
    "        roll_amt = i_s[h-1] - i_s[h]\n",
    "        print(h,\")\\t\",roll_amt, end=\"\\t \")\n",
    "        x_s = np.roll(x_s, roll_amt-1)  # -1 because one already done by removing the last element\n",
    "\n",
    "        # rotate A\n",
    "        A[:, :] = A[x_s, :]\n",
    "        A[:, :] = A[:, x_s]\n",
    "\n",
    "\n",
    "        #pop last element\n",
    "        last = x_s[-1]\n",
    "        x_s = x_s[:-1]\n",
    "        x_s[x_s > last] -= 1\n",
    "        print(x_s, \"\\t\", last)\n",
    "\n",
    "        print()\n",
    "        print(A)\n",
    "        print()\n",
    "        print(A.shape)\n",
    "        print(\"\\n\")\n",
    "\n",
    "        # stack with old ones\n",
    "        # bd_stack.append(A[:, -1])\n",
    "        b = A[-1, :-1]\n",
    "        c = A[:-1, -1]\n",
    "        d = A[-1, -1]\n",
    "\n",
    "        print(\"b:\", b)\n",
    "        print(\"c:\", c)\n",
    "        print(\"d:\", d)\n",
    "\n",
    "        A = A[:-1, :-1]\n",
    "        A = np.outer(b, c) / d\n",
    "\n",
    "        A[x_s, :] = A[np.arange(A.shape[0]), :]\n",
    "        A[:, x_s] = A[:, np.arange(A.shape[0])]\n",
    "\n",
    "\n",
    "    # back in place\n",
    "    x_s = np.roll(x_s, i_s[-1]-1)\n",
    "    print(\"last )\\t\\t\", x_s)\n",
    "    print()\n",
    "    print(A)\n",
    "    print(\"\\n\")\n",
    "    A[:, :] = A[x_s, :]\n",
    "    A[:, :] = A[:, x_s]\n",
    "    print(\"last2 )\\t\\t\", x_s)\n",
    "    print()\n",
    "    print(A)\n",
    "    print(\"\\n\")\n",
    "    # for bd in bd_stack[::-1]:\n",
    "    #     print(bd)\n",
    "    # print(bd_stack[0].shape)\n",
    "    # b_size = bd_stack[-1].shape[0]-1\n",
    "    # print(b_size)\n",
    "    # b = np.vstack([bd[:b_size] for bd in bd_stack[::-1]])\n",
    "    # print(b)\n",
    "    # print(b.T)\n",
    "    # d = np.zeros((n-b_size, n-b_size), dtype=np.int32)\n",
    "    # for j in range(len(bd_stack)):\n",
    "    #     data_amt = bd_stack[-j-1][b_size:].shape[0]\n",
    "    #     d[j, :data_amt] = bd_stack[-j-1][b_size:]\n",
    "    #     d[:, j] = d[j, :]\n",
    "    # print(d)\n",
    "\n",
    "    # d = np.linalg.inv(d)\n",
    "    # c = b.T\n",
    "    # return A - np.matmul(c, np.matmul(d, b))\n",
    "    return A\n",
    "\n",
    "    # bd = np.vstack(bd_stack[::-1])\n",
    "    # print(bd)"
   ]
  },
  {
   "cell_type": "code",
   "execution_count": 34,
   "metadata": {},
   "outputs": [],
   "source": [
    "def remove_2(matrix, indices):\n",
    "    indices = np.sort(np.array(indices))[::-1]\n",
    "    amt = indices.shape[0]\n",
    "    x = np.arange(matrix.shape[0])\n",
    "\n",
    "    swap = -1\n",
    "    for i in indices:\n",
    "        x[[i, swap]] = x[[swap, i]]\n",
    "        swap -= 1\n",
    "\n",
    "    matrix[:, :] = matrix[x, :]\n",
    "    matrix[:, :] = matrix[:, x]\n",
    "\n",
    "    a = matrix[:-amt, :-amt]\n",
    "    b = matrix[:-amt, -amt:]\n",
    "    c = matrix[-amt:, :-amt]\n",
    "    d = matrix[-amt:, -amt:]\n",
    "\n",
    "    dinv = np.linalg.inv(d)\n",
    "\n",
    "    result = a - np.matmul(b, np.matmul(dinv, c))\n",
    "\n",
    "    print(x)\n",
    "    # print(np.allclose(np.sort(x), np.arange(x.shape[0])))\n",
    "    x = x[:-amt]\n",
    "    \n",
    "    adj_v = np.zeros(len(x), np.int32)\n",
    "    for i in indices:\n",
    "        adj_v[x>i] += 1\n",
    "    print(\"adj_v\", adj_v)\n",
    "\n",
    "    # y = x.copy()\n",
    "    x-=adj_v\n",
    "    print(x, x.shape)\n",
    "    print(np.sort(x))\n",
    "    print(np.equal(np.sort(x), np.arange(x.shape[0])))\n",
    "    print(np.allclose(np.sort(x), np.arange(x.shape[0])))\n",
    "\n",
    "    result[x,:] = result[np.arange(result.shape[0]), :]\n",
    "    result[:,x] = result[:, np.arange(result.shape[0])]\n",
    "\n",
    "    return result"
   ]
  },
  {
   "cell_type": "code",
   "execution_count": 36,
   "metadata": {},
   "outputs": [
    {
     "name": "stdout",
     "output_type": "stream",
     "text": [
      "[0 1 2 3 4 7 6 9 5 8]\n"
     ]
    },
    {
     "name": "stdout",
     "output_type": "stream",
     "text": [
      "adj_v [0 0 0 0 0 2 2]\n",
      "[0 1 2 3 4 5 4] (7,)\n",
      "[0 1 2 3 4 4 5]\n",
      "[ True  True  True  True  True False False]\n",
      "False\n",
      "[[ -0.35  -4.78   5.38  -1.16  -1.27  -2.    -1.27]\n",
      " [  4.08  -1.97   7.3  -10.27   3.22  -2.     3.22]\n",
      " [ -1.94   5.29   3.55   6.34  -1.51   7.2   -1.51]\n",
      " [  7.36  -3.28   0.31   7.01   1.95   8.2    1.95]\n",
      " [ -0.32  -4.11  -4.19  -2.92  -0.86   7.    -0.86]\n",
      " [ -5.15  -1.25   4.46  -9.91  -3.39   1.6   -3.39]\n",
      " [ -0.32  -4.11  -4.19  -2.92  -0.86   7.    -0.86]]\n"
     ]
    },
    {
     "ename": "ValueError",
     "evalue": "matmul: Input operand 1 has a mismatch in its core dimension 0, with gufunc signature (n?,k),(k,m?)->(n?,m?) (size 8 is different from 7)",
     "output_type": "error",
     "traceback": [
      "\u001b[1;31m---------------------------------------------------------------------------\u001b[0m",
      "\u001b[1;31mValueError\u001b[0m                                Traceback (most recent call last)",
      "Cell \u001b[1;32mIn[36], line 36\u001b[0m\n\u001b[0;32m     32\u001b[0m m \u001b[39m=\u001b[39m remove_2(matrix, del_indices)\n\u001b[0;32m     34\u001b[0m \u001b[39mprint\u001b[39m(m)\n\u001b[1;32m---> 36\u001b[0m \u001b[39mprint\u001b[39m(np\u001b[39m.\u001b[39mabs(np\u001b[39m.\u001b[39mrint(np\u001b[39m.\u001b[39;49mmatmul(m, inversed))))\n\u001b[0;32m     38\u001b[0m \u001b[39m# np.set_printoptions(precision=8)\u001b[39;00m\n",
      "\u001b[1;31mValueError\u001b[0m: matmul: Input operand 1 has a mismatch in its core dimension 0, with gufunc signature (n?,k),(k,m?)->(n?,m?) (size 8 is different from 7)"
     ]
    }
   ],
   "source": [
    "import numpy as np\n",
    "np.set_printoptions(precision=2)\n",
    "from matrix_inverse_remove import matrix_inverse_remove_indices as inverse_remove\n",
    "\n",
    "# matrix = np.array([ [0,0,0,0,0,0,0,0,0,0],\n",
    "#                     [0,1,1,1,1,1,1,1,1,1],\n",
    "#                     [0,1,2,2,2,2,2,2,2,2],\n",
    "#                     [0,1,2,3,3,3,3,3,3,3],\n",
    "#                     [0,1,2,3,4,4,4,4,4,4],\n",
    "#                     [0,1,2,3,4,5,5,5,5,5],\n",
    "#                     [0,1,2,3,4,5,6,6,6,6],\n",
    "#                     [0,1,2,3,4,5,6,7,7,7],\n",
    "#                     [0,1,2,3,4,5,6,7,8,8],\n",
    "#                     [0,1,2,3,4,5,6,7,8,9] ]) +1\n",
    "\n",
    "np.random.seed(1005)\n",
    "\n",
    "matrix = np.random.randint(0, 10, (10,10))\n",
    "\n",
    "inversed = np.linalg.inv(matrix)\n",
    "\n",
    "# print(np.abs(np.rint(np.matmul(matrix, inversed))))\n",
    "\n",
    "del_indices = np.random.randint(0, 10, 3)\n",
    "\n",
    "#remove rows and columns from inversed\n",
    "inversed = np.delete(inversed, del_indices, axis=0)\n",
    "inversed = np.delete(inversed, del_indices, axis=1)\n",
    "\n",
    "# m = inverse_remove(matrix, del_indices)\n",
    "# m = matrix_remove(matrix, del_indices)\n",
    "m = remove_2(matrix, del_indices)\n",
    "\n",
    "print(m)\n",
    "\n",
    "print(np.abs(np.rint(np.matmul(m, inversed))))\n",
    "\n",
    "# np.set_printoptions(precision=8)"
   ]
  },
  {
   "cell_type": "code",
   "execution_count": null,
   "metadata": {},
   "outputs": [
    {
     "name": "stdout",
     "output_type": "stream",
     "text": [
      "[[1 1 1 1 1]\n",
      " [1 2 2 2 2]\n",
      " [1 2 3 3 3]\n",
      " [1 2 3 4 4]\n",
      " [1 2 3 4 5]] \n",
      "\n",
      "[[3 3 3 1 2]\n",
      " [3 4 4 1 2]\n",
      " [3 4 5 1 2]\n",
      " [1 1 1 1 1]\n",
      " [2 2 2 1 2]] \n",
      "\n",
      "[[1 1 1 1 1]\n",
      " [1 2 2 2 2]\n",
      " [1 2 3 3 3]\n",
      " [1 2 3 4 4]\n",
      " [1 2 3 4 5]] \n",
      "\n"
     ]
    }
   ],
   "source": [
    "import numpy as np\n",
    "\n",
    "x = np.arange(5)\n",
    "\n",
    "matrix = np.array([ [0,0,0,0,0],\n",
    "                    [0,1,1,1,1],\n",
    "                    [0,1,2,2,2],\n",
    "                    [0,1,2,3,3],\n",
    "                    [0,1,2,3,4] ]) +1\n",
    "\n",
    "print(matrix, \"\\n\")\n",
    "x = np.roll(x, 3)\n",
    "matrix[:, :] = matrix[x, :]\n",
    "matrix[:, :] = matrix[:, x]\n",
    "print(matrix, \"\\n\")\n",
    "matrix[x, :] = matrix[np.arange(5), :]\n",
    "matrix[:, x] = matrix[:, np.arange(5)]\n",
    "print(matrix, \"\\n\")\n"
   ]
  },
  {
   "cell_type": "code",
   "execution_count": null,
   "metadata": {},
   "outputs": [
    {
     "name": "stdout",
     "output_type": "stream",
     "text": [
      "\n",
      "[0 1 2 7 8 5 9 3 4 6]\n",
      "[0 1 2 4 5 3 6 3 3 4]\n"
     ]
    }
   ],
   "source": [
    "import numpy as np\n",
    "\n",
    "x = np.arange(matrix.shape[0])\n",
    "\n",
    "indices = [6,4,3]\n",
    "\n",
    "swap = -1\n",
    "for i in indices:\n",
    "    x[[i, swap]] = x[[swap, i]]\n",
    "    swap -= 1\n",
    "\n",
    "y = x.copy()\n",
    "dl = np.zeros(y.shape[0], np.int32)\n",
    "for i in np.sort(indices):\n",
    "    dl[y>i] += 1\n",
    "\n",
    "print()\n",
    "print(x)\n",
    "print(y-dl)\n",
    "# print(dl)\n"
   ]
  }
 ],
 "metadata": {
  "kernelspec": {
   "display_name": "Python 3",
   "language": "python",
   "name": "python3"
  },
  "language_info": {
   "codemirror_mode": {
    "name": "ipython",
    "version": 3
   },
   "file_extension": ".py",
   "mimetype": "text/x-python",
   "name": "python",
   "nbconvert_exporter": "python",
   "pygments_lexer": "ipython3",
   "version": "3.10.11"
  },
  "orig_nbformat": 4
 },
 "nbformat": 4,
 "nbformat_minor": 2
}
